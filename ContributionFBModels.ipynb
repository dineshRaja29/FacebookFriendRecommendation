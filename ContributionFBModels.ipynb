{
  "cells": [
    {
      "cell_type": "markdown",
      "metadata": {
        "id": "view-in-github",
        "colab_type": "text"
      },
      "source": [
        "<a href=\"https://colab.research.google.com/github/dineshRaja29/FacebookFriendRecommendation/blob/main/ContributionFBModels.ipynb\" target=\"_parent\"><img src=\"https://colab.research.google.com/assets/colab-badge.svg\" alt=\"Open In Colab\"/></a>"
      ]
    },
    {
      "cell_type": "markdown",
      "metadata": {
        "id": "naWvqMEMHglO"
      },
      "source": [
        "<p style=\"font-size:32px;text-align:center\"> <b>Social network Graph Link Prediction - Facebook Challenge</b> </p>"
      ]
    },
    {
      "cell_type": "code",
      "execution_count": null,
      "metadata": {
        "collapsed": true,
        "id": "9wb9N5RzHglP"
      },
      "outputs": [],
      "source": [
        "#Importing Libraries\n",
        "# please do go through this python notebook: \n",
        "import warnings\n",
        "warnings.filterwarnings(\"ignore\")\n",
        "import csv\n",
        "import pandas as pd#pandas to create small dataframes \n",
        "import datetime #Convert to unix time\n",
        "import time #Convert to unix time\n",
        "# if numpy is not installed already : pip3 install numpy\n",
        "import numpy as np#Do aritmetic operations on arrays\n",
        "# matplotlib: used to plot graphs\n",
        "import matplotlib\n",
        "import matplotlib.pylab as plt\n",
        "import seaborn as sns#Plots\n",
        "from matplotlib import rcParams#Size of plots  \n",
        "from sklearn.cluster import MiniBatchKMeans, KMeans#Clustering\n",
        "import math\n",
        "import pickle\n",
        "import os\n",
        "# to install xgboost: pip3 install xgboost\n",
        "import xgboost as xgb\n",
        "\n",
        "import warnings\n",
        "import networkx as nx\n",
        "import pdb\n",
        "import pickle\n",
        "from pandas import HDFStore,DataFrame\n",
        "from pandas import read_hdf\n",
        "from scipy.sparse.linalg import svds, eigs\n",
        "import gc\n",
        "from tqdm import tqdm\n",
        "from sklearn.ensemble import RandomForestClassifier\n",
        "from sklearn.metrics import f1_score\n",
        "from prettytable import PrettyTable"
      ]
    },
    {
      "cell_type": "code",
      "execution_count": null,
      "metadata": {
        "colab": {
          "base_uri": "https://localhost:8080/",
          "height": 124
        },
        "id": "fagNSF5gRaM-",
        "outputId": "b1c4d6b3-2588-456d-f543-fa9896c8a04e"
      },
      "outputs": [
        {
          "name": "stdout",
          "output_type": "stream",
          "text": [
            "Go to this URL in a browser: https://accounts.google.com/o/oauth2/auth?client_id=947318989803-6bn6qk8qdgf4n4g3pfee6491hc0brc4i.apps.googleusercontent.com&redirect_uri=urn%3Aietf%3Awg%3Aoauth%3A2.0%3Aoob&scope=email%20https%3A%2F%2Fwww.googleapis.com%2Fauth%2Fdocs.test%20https%3A%2F%2Fwww.googleapis.com%2Fauth%2Fdrive%20https%3A%2F%2Fwww.googleapis.com%2Fauth%2Fdrive.photos.readonly%20https%3A%2F%2Fwww.googleapis.com%2Fauth%2Fpeopleapi.readonly&response_type=code\n",
            "\n",
            "Enter your authorization code:\n",
            "··········\n",
            "Mounted at /content/drive\n"
          ]
        }
      ],
      "source": [
        "from google.colab import drive\n",
        "drive.mount('/content/drive', force_remount=True)"
      ]
    },
    {
      "cell_type": "code",
      "execution_count": null,
      "metadata": {
        "collapsed": true,
        "id": "XC4OJFKkHglU"
      },
      "outputs": [],
      "source": [
        "#reading\n",
        "from pandas import read_hdf\n",
        "df_final_train = read_hdf('/content/drive/My Drive/FB/Facebook/data/fea_sample/storage_sample_stage4.h5', 'train_df',mode='r')\n",
        "df_final_test = read_hdf('/content/drive/My Drive/FB/Facebook/data/fea_sample/storage_sample_stage4.h5', 'test_df',mode='r')"
      ]
    },
    {
      "cell_type": "code",
      "execution_count": null,
      "metadata": {
        "colab": {
          "base_uri": "https://localhost:8080/",
          "height": 243
        },
        "id": "5Gm-BHRkHglW",
        "outputId": "fd273eed-8cbf-4330-fd10-c17c20dd24d7"
      },
      "outputs": [
        {
          "data": {
            "text/plain": [
              "Index(['source_node', 'destination_node', 'indicator_link',\n",
              "       'jaccard_followers', 'jaccard_followees', 'cosine_followers',\n",
              "       'cosine_followees', 'num_followers_s', 'num_followees_s',\n",
              "       'num_followees_d', 'inter_followers', 'inter_followees', 'adar_index',\n",
              "       'follows_back', 'same_comp', 'shortest_path', 'weight_in', 'weight_out',\n",
              "       'weight_f1', 'weight_f2', 'weight_f3', 'weight_f4', 'page_rank_s',\n",
              "       'page_rank_d', 'katz_s', 'katz_d', 'hubs_s', 'hubs_d', 'authorities_s',\n",
              "       'authorities_d', 'svd_u_s_1', 'svd_u_s_2', 'svd_u_s_3', 'svd_u_s_4',\n",
              "       'svd_u_s_5', 'svd_u_s_6', 'svd_u_d_1', 'svd_u_d_2', 'svd_u_d_3',\n",
              "       'svd_u_d_4', 'svd_u_d_5', 'svd_u_d_6', 'svd_v_s_1', 'svd_v_s_2',\n",
              "       'svd_v_s_3', 'svd_v_s_4', 'svd_v_s_5', 'svd_v_s_6', 'svd_v_d_1',\n",
              "       'svd_v_d_2', 'svd_v_d_3', 'svd_v_d_4', 'svd_v_d_5', 'svd_v_d_6'],\n",
              "      dtype='object')"
            ]
          },
          "execution_count": 4,
          "metadata": {
            "tags": []
          },
          "output_type": "execute_result"
        }
      ],
      "source": [
        "df_final_train.columns"
      ]
    },
    {
      "cell_type": "code",
      "execution_count": null,
      "metadata": {
        "colab": {
          "base_uri": "https://localhost:8080/",
          "height": 121
        },
        "id": "goKcx3cZmsFH",
        "outputId": "9295af48-13d3-45d4-c6a0-70318fafbd7c"
      },
      "outputs": [
        {
          "name": "stdout",
          "output_type": "stream",
          "text": [
            "Name: \n",
            "Type: DiGraph\n",
            "Number of nodes: 1780722\n",
            "Number of edges: 7550015\n",
            "Average in degree:   4.2399\n",
            "Average out degree:   4.2399\n"
          ]
        }
      ],
      "source": [
        "if os.path.isfile('/content/drive/My Drive/FB/Facebook/data/after_eda/train_pos_after_eda.csv'):\n",
        "    train_graph=nx.read_edgelist('/content/drive/My Drive/FB/Facebook/data/after_eda/train_pos_after_eda.csv',delimiter=',',create_using=nx.DiGraph(),nodetype=int)\n",
        "    print(nx.info(train_graph))\n"
      ]
    },
    {
      "cell_type": "code",
      "execution_count": null,
      "metadata": {
        "collapsed": true,
        "id": "CP2ioIe2msVg"
      },
      "outputs": [],
      "source": [
        "def Preferential_Attachment_follower(source, destination):\n",
        "  try:\n",
        "    return len(set(train_graph.predecessors(source))) * len(set(train_graph.predecessors(destination)))   \n",
        "  except:\n",
        "    return 0"
      ]
    },
    {
      "cell_type": "code",
      "execution_count": null,
      "metadata": {
        "collapsed": true,
        "id": "3XIPuztBmsZt"
      },
      "outputs": [],
      "source": [
        "def Preferential_Attachment_followee(source, destination):\n",
        "  try:\n",
        "    return len(set(train_graph.successors(source))) * len(set(train_graph.successors(destination)))   \n",
        "  except:\n",
        "    return 0"
      ]
    },
    {
      "cell_type": "code",
      "execution_count": null,
      "metadata": {
        "collapsed": true,
        "id": "RPDkU7BEO7Vs"
      },
      "outputs": [],
      "source": [
        "def SVD_Multiplication(a1, a2, a3, a4, a5, a6, b1, b2, b3, b4, b5, b6 ):\n",
        "  u = np.array([a1, a2, a3, a4, a5, a6])\n",
        "  v = np.array([b1, b2, b3, b4, b5, b6])\n",
        "  return u.dot(v.T);\n",
        "  "
      ]
    },
    {
      "cell_type": "code",
      "execution_count": null,
      "metadata": {
        "colab": {
          "base_uri": "https://localhost:8080/",
          "height": 34
        },
        "id": "k1fOW5dEmsS9",
        "outputId": "98deb5d0-b16c-4129-d057-a2ee175883ab"
      },
      "outputs": [
        {
          "data": {
            "text/plain": [
              "3"
            ]
          },
          "execution_count": 9,
          "metadata": {
            "tags": []
          },
          "output_type": "execute_result"
        }
      ],
      "source": [
        "Preferential_Attachment_followee(12, 45)"
      ]
    },
    {
      "cell_type": "code",
      "execution_count": null,
      "metadata": {
        "collapsed": true,
        "id": "sSpy3MD1msQj"
      },
      "outputs": [],
      "source": [
        "df_final_train['Preferential_Attachment_follower'] = df_final_train.apply(lambda row:\n",
        "                                            Preferential_Attachment_follower(row['source_node'],row['destination_node']),axis=1)\n",
        "df_final_test['Preferential_Attachment_follower'] = df_final_test.apply(lambda row:\n",
        "                                            Preferential_Attachment_follower(row['source_node'],row['destination_node']),axis=1)"
      ]
    },
    {
      "cell_type": "code",
      "execution_count": null,
      "metadata": {
        "collapsed": true,
        "id": "tPhVRtyDmsOE"
      },
      "outputs": [],
      "source": [
        "df_final_train['Preferential_Attachment_followee'] = df_final_train.apply(lambda row:\n",
        "                                            Preferential_Attachment_followee(row['source_node'],row['destination_node']),axis=1)\n",
        "df_final_test['Preferential_Attachment_followee'] = df_final_test.apply(lambda row:\n",
        "                                            Preferential_Attachment_followee(row['source_node'],row['destination_node']),axis=1)"
      ]
    },
    {
      "cell_type": "code",
      "execution_count": null,
      "metadata": {
        "colab": {
          "base_uri": "https://localhost:8080/",
          "height": 163
        },
        "id": "xx34Nc0HmsLX",
        "outputId": "208b998a-71cf-4d6d-bb1b-030263987f25"
      },
      "outputs": [
        {
          "data": {
            "text/html": [
              "<div>\n",
              "<style scoped>\n",
              "    .dataframe tbody tr th:only-of-type {\n",
              "        vertical-align: middle;\n",
              "    }\n",
              "\n",
              "    .dataframe tbody tr th {\n",
              "        vertical-align: top;\n",
              "    }\n",
              "\n",
              "    .dataframe thead th {\n",
              "        text-align: right;\n",
              "    }\n",
              "</style>\n",
              "<table border=\"1\" class=\"dataframe\">\n",
              "  <thead>\n",
              "    <tr style=\"text-align: right;\">\n",
              "      <th></th>\n",
              "      <th>source_node</th>\n",
              "      <th>destination_node</th>\n",
              "      <th>indicator_link</th>\n",
              "      <th>jaccard_followers</th>\n",
              "      <th>jaccard_followees</th>\n",
              "      <th>cosine_followers</th>\n",
              "      <th>cosine_followees</th>\n",
              "      <th>num_followers_s</th>\n",
              "      <th>num_followees_s</th>\n",
              "      <th>num_followees_d</th>\n",
              "      <th>inter_followers</th>\n",
              "      <th>inter_followees</th>\n",
              "      <th>adar_index</th>\n",
              "      <th>follows_back</th>\n",
              "      <th>same_comp</th>\n",
              "      <th>shortest_path</th>\n",
              "      <th>weight_in</th>\n",
              "      <th>weight_out</th>\n",
              "      <th>weight_f1</th>\n",
              "      <th>weight_f2</th>\n",
              "      <th>weight_f3</th>\n",
              "      <th>weight_f4</th>\n",
              "      <th>page_rank_s</th>\n",
              "      <th>page_rank_d</th>\n",
              "      <th>katz_s</th>\n",
              "      <th>katz_d</th>\n",
              "      <th>hubs_s</th>\n",
              "      <th>hubs_d</th>\n",
              "      <th>authorities_s</th>\n",
              "      <th>authorities_d</th>\n",
              "      <th>svd_u_s_1</th>\n",
              "      <th>svd_u_s_2</th>\n",
              "      <th>svd_u_s_3</th>\n",
              "      <th>svd_u_s_4</th>\n",
              "      <th>svd_u_s_5</th>\n",
              "      <th>svd_u_s_6</th>\n",
              "      <th>svd_u_d_1</th>\n",
              "      <th>svd_u_d_2</th>\n",
              "      <th>svd_u_d_3</th>\n",
              "      <th>svd_u_d_4</th>\n",
              "      <th>svd_u_d_5</th>\n",
              "      <th>svd_u_d_6</th>\n",
              "      <th>svd_v_s_1</th>\n",
              "      <th>svd_v_s_2</th>\n",
              "      <th>svd_v_s_3</th>\n",
              "      <th>svd_v_s_4</th>\n",
              "      <th>svd_v_s_5</th>\n",
              "      <th>svd_v_s_6</th>\n",
              "      <th>svd_v_d_1</th>\n",
              "      <th>svd_v_d_2</th>\n",
              "      <th>svd_v_d_3</th>\n",
              "      <th>svd_v_d_4</th>\n",
              "      <th>svd_v_d_5</th>\n",
              "      <th>svd_v_d_6</th>\n",
              "      <th>Preferential_Attachment_follower</th>\n",
              "      <th>Preferential_Attachment_followee</th>\n",
              "    </tr>\n",
              "  </thead>\n",
              "  <tbody>\n",
              "    <tr>\n",
              "      <th>0</th>\n",
              "      <td>273084</td>\n",
              "      <td>1505602</td>\n",
              "      <td>1</td>\n",
              "      <td>0</td>\n",
              "      <td>0.000000</td>\n",
              "      <td>0.000000</td>\n",
              "      <td>0.000000</td>\n",
              "      <td>6</td>\n",
              "      <td>15</td>\n",
              "      <td>8</td>\n",
              "      <td>0</td>\n",
              "      <td>0</td>\n",
              "      <td>0.000000</td>\n",
              "      <td>0</td>\n",
              "      <td>1</td>\n",
              "      <td>4</td>\n",
              "      <td>0.377964</td>\n",
              "      <td>0.250000</td>\n",
              "      <td>0.627964</td>\n",
              "      <td>0.094491</td>\n",
              "      <td>1.005929</td>\n",
              "      <td>0.877964</td>\n",
              "      <td>2.045290e-06</td>\n",
              "      <td>3.459963e-07</td>\n",
              "      <td>0.000773</td>\n",
              "      <td>0.000756</td>\n",
              "      <td>1.943132e-13</td>\n",
              "      <td>1.941103e-13</td>\n",
              "      <td>9.226339e-16</td>\n",
              "      <td>2.231877e-15</td>\n",
              "      <td>-1.666226e-13</td>\n",
              "      <td>4.613397e-13</td>\n",
              "      <td>1.043044e-05</td>\n",
              "      <td>6.676960e-13</td>\n",
              "      <td>2.451081e-13</td>\n",
              "      <td>3.584580e-12</td>\n",
              "      <td>-2.038017e-11</td>\n",
              "      <td>5.397495e-13</td>\n",
              "      <td>1.068946e-06</td>\n",
              "      <td>1.192357e-12</td>\n",
              "      <td>2.279485e-12</td>\n",
              "      <td>3.580837e-12</td>\n",
              "      <td>-7.216133e-13</td>\n",
              "      <td>3.925975e-13</td>\n",
              "      <td>1.983691e-06</td>\n",
              "      <td>1.545075e-13</td>\n",
              "      <td>8.108434e-13</td>\n",
              "      <td>1.719702e-14</td>\n",
              "      <td>-1.355368e-12</td>\n",
              "      <td>4.675307e-13</td>\n",
              "      <td>1.128591e-06</td>\n",
              "      <td>6.616550e-14</td>\n",
              "      <td>9.771077e-13</td>\n",
              "      <td>4.159752e-14</td>\n",
              "      <td>66</td>\n",
              "      <td>120</td>\n",
              "    </tr>\n",
              "    <tr>\n",
              "      <th>1</th>\n",
              "      <td>832016</td>\n",
              "      <td>1543415</td>\n",
              "      <td>1</td>\n",
              "      <td>0</td>\n",
              "      <td>0.187135</td>\n",
              "      <td>0.028382</td>\n",
              "      <td>0.343828</td>\n",
              "      <td>94</td>\n",
              "      <td>61</td>\n",
              "      <td>142</td>\n",
              "      <td>11</td>\n",
              "      <td>32</td>\n",
              "      <td>16.362912</td>\n",
              "      <td>0</td>\n",
              "      <td>1</td>\n",
              "      <td>2</td>\n",
              "      <td>0.102598</td>\n",
              "      <td>0.127000</td>\n",
              "      <td>0.229598</td>\n",
              "      <td>0.013030</td>\n",
              "      <td>0.332196</td>\n",
              "      <td>0.356598</td>\n",
              "      <td>2.353458e-07</td>\n",
              "      <td>6.427660e-07</td>\n",
              "      <td>0.000845</td>\n",
              "      <td>0.001317</td>\n",
              "      <td>3.906648e-11</td>\n",
              "      <td>9.424102e-11</td>\n",
              "      <td>1.208074e-11</td>\n",
              "      <td>1.273080e-10</td>\n",
              "      <td>7.051088e-13</td>\n",
              "      <td>-8.250564e-11</td>\n",
              "      <td>-1.717702e-10</td>\n",
              "      <td>3.705016e-02</td>\n",
              "      <td>1.032392e-11</td>\n",
              "      <td>7.207497e-10</td>\n",
              "      <td>1.644399e-12</td>\n",
              "      <td>-2.047752e-10</td>\n",
              "      <td>-3.943936e-10</td>\n",
              "      <td>8.617541e-02</td>\n",
              "      <td>2.399540e-11</td>\n",
              "      <td>1.738682e-09</td>\n",
              "      <td>2.685878e-13</td>\n",
              "      <td>-3.316849e-11</td>\n",
              "      <td>-6.236048e-11</td>\n",
              "      <td>1.345726e-02</td>\n",
              "      <td>3.703479e-12</td>\n",
              "      <td>2.251737e-10</td>\n",
              "      <td>1.245101e-12</td>\n",
              "      <td>-1.636948e-10</td>\n",
              "      <td>-3.112650e-10</td>\n",
              "      <td>6.738902e-02</td>\n",
              "      <td>2.607801e-11</td>\n",
              "      <td>2.372904e-09</td>\n",
              "      <td>1598</td>\n",
              "      <td>8662</td>\n",
              "    </tr>\n",
              "    <tr>\n",
              "      <th>2</th>\n",
              "      <td>1325247</td>\n",
              "      <td>760242</td>\n",
              "      <td>1</td>\n",
              "      <td>0</td>\n",
              "      <td>0.369565</td>\n",
              "      <td>0.156957</td>\n",
              "      <td>0.566038</td>\n",
              "      <td>28</td>\n",
              "      <td>41</td>\n",
              "      <td>22</td>\n",
              "      <td>26</td>\n",
              "      <td>17</td>\n",
              "      <td>10.991826</td>\n",
              "      <td>0</td>\n",
              "      <td>1</td>\n",
              "      <td>2</td>\n",
              "      <td>0.185695</td>\n",
              "      <td>0.154303</td>\n",
              "      <td>0.339999</td>\n",
              "      <td>0.028653</td>\n",
              "      <td>0.525694</td>\n",
              "      <td>0.494302</td>\n",
              "      <td>6.211019e-07</td>\n",
              "      <td>5.179801e-07</td>\n",
              "      <td>0.000885</td>\n",
              "      <td>0.000855</td>\n",
              "      <td>7.730764e-114</td>\n",
              "      <td>4.067322e-114</td>\n",
              "      <td>2.681298e-113</td>\n",
              "      <td>2.199205e-113</td>\n",
              "      <td>-4.900734e-18</td>\n",
              "      <td>1.096831e-18</td>\n",
              "      <td>-6.816555e-19</td>\n",
              "      <td>-2.226453e-18</td>\n",
              "      <td>6.710556e-19</td>\n",
              "      <td>-8.161336e-19</td>\n",
              "      <td>-2.606312e-18</td>\n",
              "      <td>6.392474e-19</td>\n",
              "      <td>-4.245830e-19</td>\n",
              "      <td>-1.315747e-18</td>\n",
              "      <td>3.849627e-19</td>\n",
              "      <td>-1.131971e-18</td>\n",
              "      <td>-1.510265e-18</td>\n",
              "      <td>1.454979e-19</td>\n",
              "      <td>-2.380564e-19</td>\n",
              "      <td>-7.021227e-19</td>\n",
              "      <td>1.940403e-19</td>\n",
              "      <td>-3.365389e-19</td>\n",
              "      <td>-1.238370e-18</td>\n",
              "      <td>1.438175e-19</td>\n",
              "      <td>-1.852863e-19</td>\n",
              "      <td>-5.901864e-19</td>\n",
              "      <td>1.629341e-19</td>\n",
              "      <td>-2.572452e-19</td>\n",
              "      <td>980</td>\n",
              "      <td>902</td>\n",
              "    </tr>\n",
              "  </tbody>\n",
              "</table>\n",
              "</div>"
            ],
            "text/plain": [
              "   source_node  ...  Preferential_Attachment_followee\n",
              "0       273084  ...                               120\n",
              "1       832016  ...                              8662\n",
              "2      1325247  ...                               902\n",
              "\n",
              "[3 rows x 56 columns]"
            ]
          },
          "execution_count": 12,
          "metadata": {
            "tags": []
          },
          "output_type": "execute_result"
        }
      ],
      "source": [
        "df_final_train.head(3)"
      ]
    },
    {
      "cell_type": "code",
      "execution_count": null,
      "metadata": {
        "colab": {
          "base_uri": "https://localhost:8080/",
          "height": 163
        },
        "id": "cjL6WNUx3Cii",
        "outputId": "8c642d1f-501a-484e-ea61-8e270cf05c49"
      },
      "outputs": [
        {
          "data": {
            "text/html": [
              "<div>\n",
              "<style scoped>\n",
              "    .dataframe tbody tr th:only-of-type {\n",
              "        vertical-align: middle;\n",
              "    }\n",
              "\n",
              "    .dataframe tbody tr th {\n",
              "        vertical-align: top;\n",
              "    }\n",
              "\n",
              "    .dataframe thead th {\n",
              "        text-align: right;\n",
              "    }\n",
              "</style>\n",
              "<table border=\"1\" class=\"dataframe\">\n",
              "  <thead>\n",
              "    <tr style=\"text-align: right;\">\n",
              "      <th></th>\n",
              "      <th>source_node</th>\n",
              "      <th>destination_node</th>\n",
              "      <th>indicator_link</th>\n",
              "      <th>jaccard_followers</th>\n",
              "      <th>jaccard_followees</th>\n",
              "      <th>cosine_followers</th>\n",
              "      <th>cosine_followees</th>\n",
              "      <th>num_followers_s</th>\n",
              "      <th>num_followees_s</th>\n",
              "      <th>num_followees_d</th>\n",
              "      <th>inter_followers</th>\n",
              "      <th>inter_followees</th>\n",
              "      <th>adar_index</th>\n",
              "      <th>follows_back</th>\n",
              "      <th>same_comp</th>\n",
              "      <th>shortest_path</th>\n",
              "      <th>weight_in</th>\n",
              "      <th>weight_out</th>\n",
              "      <th>weight_f1</th>\n",
              "      <th>weight_f2</th>\n",
              "      <th>weight_f3</th>\n",
              "      <th>weight_f4</th>\n",
              "      <th>page_rank_s</th>\n",
              "      <th>page_rank_d</th>\n",
              "      <th>katz_s</th>\n",
              "      <th>katz_d</th>\n",
              "      <th>hubs_s</th>\n",
              "      <th>hubs_d</th>\n",
              "      <th>authorities_s</th>\n",
              "      <th>authorities_d</th>\n",
              "      <th>svd_u_s_1</th>\n",
              "      <th>svd_u_s_2</th>\n",
              "      <th>svd_u_s_3</th>\n",
              "      <th>svd_u_s_4</th>\n",
              "      <th>svd_u_s_5</th>\n",
              "      <th>svd_u_s_6</th>\n",
              "      <th>svd_u_d_1</th>\n",
              "      <th>svd_u_d_2</th>\n",
              "      <th>svd_u_d_3</th>\n",
              "      <th>svd_u_d_4</th>\n",
              "      <th>svd_u_d_5</th>\n",
              "      <th>svd_u_d_6</th>\n",
              "      <th>svd_v_s_1</th>\n",
              "      <th>svd_v_s_2</th>\n",
              "      <th>svd_v_s_3</th>\n",
              "      <th>svd_v_s_4</th>\n",
              "      <th>svd_v_s_5</th>\n",
              "      <th>svd_v_s_6</th>\n",
              "      <th>svd_v_d_1</th>\n",
              "      <th>svd_v_d_2</th>\n",
              "      <th>svd_v_d_3</th>\n",
              "      <th>svd_v_d_4</th>\n",
              "      <th>svd_v_d_5</th>\n",
              "      <th>svd_v_d_6</th>\n",
              "      <th>Preferential_Attachment_follower</th>\n",
              "      <th>Preferential_Attachment_followee</th>\n",
              "    </tr>\n",
              "  </thead>\n",
              "  <tbody>\n",
              "    <tr>\n",
              "      <th>0</th>\n",
              "      <td>848424</td>\n",
              "      <td>784690</td>\n",
              "      <td>1</td>\n",
              "      <td>0</td>\n",
              "      <td>0.0</td>\n",
              "      <td>0.029161</td>\n",
              "      <td>0.0</td>\n",
              "      <td>14</td>\n",
              "      <td>6</td>\n",
              "      <td>9</td>\n",
              "      <td>1</td>\n",
              "      <td>0</td>\n",
              "      <td>0.0</td>\n",
              "      <td>1</td>\n",
              "      <td>1</td>\n",
              "      <td>2</td>\n",
              "      <td>0.258199</td>\n",
              "      <td>0.377964</td>\n",
              "      <td>0.636163</td>\n",
              "      <td>0.097590</td>\n",
              "      <td>0.894362</td>\n",
              "      <td>1.014128</td>\n",
              "      <td>6.557971e-07</td>\n",
              "      <td>0.000002</td>\n",
              "      <td>0.000754</td>\n",
              "      <td>0.000786</td>\n",
              "      <td>3.243237e-16</td>\n",
              "      <td>1.745627e-16</td>\n",
              "      <td>2.969838e-15</td>\n",
              "      <td>9.269213e-14</td>\n",
              "      <td>-9.987979e-12</td>\n",
              "      <td>2.283676e-13</td>\n",
              "      <td>1.439968e-10</td>\n",
              "      <td>6.136162e-13</td>\n",
              "      <td>4.188171e-13</td>\n",
              "      <td>5.983361e-15</td>\n",
              "      <td>-1.026186e-11</td>\n",
              "      <td>5.316372e-13</td>\n",
              "      <td>5.843225e-10</td>\n",
              "      <td>1.166047e-13</td>\n",
              "      <td>2.253356e-11</td>\n",
              "      <td>3.220367e-15</td>\n",
              "      <td>-2.148852e-13</td>\n",
              "      <td>1.883148e-13</td>\n",
              "      <td>5.904807e-11</td>\n",
              "      <td>2.701538e-12</td>\n",
              "      <td>4.341620e-13</td>\n",
              "      <td>5.535503e-14</td>\n",
              "      <td>-9.994076e-10</td>\n",
              "      <td>5.791910e-10</td>\n",
              "      <td>3.512364e-07</td>\n",
              "      <td>2.486658e-09</td>\n",
              "      <td>2.771146e-09</td>\n",
              "      <td>1.727694e-12</td>\n",
              "      <td>84</td>\n",
              "      <td>54</td>\n",
              "    </tr>\n",
              "    <tr>\n",
              "      <th>1</th>\n",
              "      <td>483294</td>\n",
              "      <td>1255532</td>\n",
              "      <td>1</td>\n",
              "      <td>0</td>\n",
              "      <td>0.0</td>\n",
              "      <td>0.000000</td>\n",
              "      <td>0.0</td>\n",
              "      <td>17</td>\n",
              "      <td>1</td>\n",
              "      <td>19</td>\n",
              "      <td>0</td>\n",
              "      <td>0</td>\n",
              "      <td>0.0</td>\n",
              "      <td>1</td>\n",
              "      <td>1</td>\n",
              "      <td>7</td>\n",
              "      <td>0.235702</td>\n",
              "      <td>0.707107</td>\n",
              "      <td>0.942809</td>\n",
              "      <td>0.166667</td>\n",
              "      <td>1.178511</td>\n",
              "      <td>1.649916</td>\n",
              "      <td>2.172064e-07</td>\n",
              "      <td>0.000001</td>\n",
              "      <td>0.000739</td>\n",
              "      <td>0.000801</td>\n",
              "      <td>1.702625e-19</td>\n",
              "      <td>2.706300e-15</td>\n",
              "      <td>2.522357e-16</td>\n",
              "      <td>5.277458e-15</td>\n",
              "      <td>-2.079151e-15</td>\n",
              "      <td>7.009864e-16</td>\n",
              "      <td>6.970710e-10</td>\n",
              "      <td>9.561769e-15</td>\n",
              "      <td>1.728794e-15</td>\n",
              "      <td>3.122935e-18</td>\n",
              "      <td>-1.960277e-11</td>\n",
              "      <td>2.861530e-11</td>\n",
              "      <td>1.939773e-08</td>\n",
              "      <td>1.907382e-12</td>\n",
              "      <td>3.797410e-11</td>\n",
              "      <td>4.992848e-14</td>\n",
              "      <td>-4.054309e-13</td>\n",
              "      <td>2.895682e-13</td>\n",
              "      <td>2.545382e-10</td>\n",
              "      <td>2.248568e-14</td>\n",
              "      <td>3.600957e-13</td>\n",
              "      <td>4.701436e-15</td>\n",
              "      <td>-9.360516e-12</td>\n",
              "      <td>3.206809e-10</td>\n",
              "      <td>4.668696e-08</td>\n",
              "      <td>6.665777e-12</td>\n",
              "      <td>1.495979e-10</td>\n",
              "      <td>9.836670e-14</td>\n",
              "      <td>34</td>\n",
              "      <td>19</td>\n",
              "    </tr>\n",
              "    <tr>\n",
              "      <th>2</th>\n",
              "      <td>626190</td>\n",
              "      <td>1729265</td>\n",
              "      <td>1</td>\n",
              "      <td>0</td>\n",
              "      <td>0.0</td>\n",
              "      <td>0.000000</td>\n",
              "      <td>0.0</td>\n",
              "      <td>10</td>\n",
              "      <td>16</td>\n",
              "      <td>9</td>\n",
              "      <td>0</td>\n",
              "      <td>0</td>\n",
              "      <td>0.0</td>\n",
              "      <td>0</td>\n",
              "      <td>1</td>\n",
              "      <td>5</td>\n",
              "      <td>0.301511</td>\n",
              "      <td>0.242536</td>\n",
              "      <td>0.544047</td>\n",
              "      <td>0.073127</td>\n",
              "      <td>0.845558</td>\n",
              "      <td>0.786583</td>\n",
              "      <td>1.853369e-06</td>\n",
              "      <td>0.000002</td>\n",
              "      <td>0.000789</td>\n",
              "      <td>0.000770</td>\n",
              "      <td>9.426796e-14</td>\n",
              "      <td>4.116616e-16</td>\n",
              "      <td>2.253244e-15</td>\n",
              "      <td>2.079387e-15</td>\n",
              "      <td>-1.782290e-11</td>\n",
              "      <td>2.389627e-11</td>\n",
              "      <td>1.443050e-06</td>\n",
              "      <td>2.358030e-12</td>\n",
              "      <td>2.689638e-12</td>\n",
              "      <td>1.739178e-12</td>\n",
              "      <td>-1.863934e-13</td>\n",
              "      <td>1.806783e-13</td>\n",
              "      <td>2.544597e-07</td>\n",
              "      <td>1.693295e-13</td>\n",
              "      <td>2.712748e-13</td>\n",
              "      <td>7.594641e-15</td>\n",
              "      <td>-4.148103e-13</td>\n",
              "      <td>4.618813e-12</td>\n",
              "      <td>1.122150e-05</td>\n",
              "      <td>1.778927e-12</td>\n",
              "      <td>2.740535e-13</td>\n",
              "      <td>4.199834e-14</td>\n",
              "      <td>-4.253075e-13</td>\n",
              "      <td>4.789463e-13</td>\n",
              "      <td>3.479824e-07</td>\n",
              "      <td>1.630549e-13</td>\n",
              "      <td>3.954708e-13</td>\n",
              "      <td>3.875785e-14</td>\n",
              "      <td>150</td>\n",
              "      <td>144</td>\n",
              "    </tr>\n",
              "  </tbody>\n",
              "</table>\n",
              "</div>"
            ],
            "text/plain": [
              "   source_node  ...  Preferential_Attachment_followee\n",
              "0       848424  ...                                54\n",
              "1       483294  ...                                19\n",
              "2       626190  ...                               144\n",
              "\n",
              "[3 rows x 56 columns]"
            ]
          },
          "execution_count": 13,
          "metadata": {
            "tags": []
          },
          "output_type": "execute_result"
        }
      ],
      "source": [
        "df_final_test.head(3)"
      ]
    },
    {
      "cell_type": "code",
      "execution_count": null,
      "metadata": {
        "collapsed": true,
        "id": "klps3j-S3Crl"
      },
      "outputs": [],
      "source": [
        "df_final_train['svdmultiplication_U'] = df_final_train.apply(lambda row:\n",
        "                                            SVD_Multiplication(row['svd_u_s_1'], row['svd_u_s_2'], row['svd_u_s_3'], \n",
        "                                                               row['svd_u_s_4'], row['svd_u_s_5'], row['svd_u_s_6'], \n",
        "                                                               row['svd_u_d_1'], row['svd_u_d_2'], row['svd_u_d_3'], \n",
        "                                                               row['svd_u_d_4'], row['svd_u_d_5'], row['svd_u_d_6']),\n",
        "                                                               axis=1)\n",
        "df_final_test['svdmultiplication_U'] = df_final_test.apply(lambda row:\n",
        "                                            SVD_Multiplication(row['svd_u_s_1'], row['svd_u_s_2'], row['svd_u_s_3'], \n",
        "                                                               row['svd_u_s_4'], row['svd_u_s_5'], row['svd_u_s_6'], \n",
        "                                                               row['svd_u_d_1'], row['svd_u_d_2'], row['svd_u_d_3'], \n",
        "                                                               row['svd_u_d_4'], row['svd_u_d_5'], row['svd_u_d_6']), \n",
        "                                                               axis=1)"
      ]
    },
    {
      "cell_type": "code",
      "execution_count": null,
      "metadata": {
        "collapsed": true,
        "id": "GdgWXxXA9Skd"
      },
      "outputs": [],
      "source": [
        "df_final_train['svdmultiplication_V'] = df_final_train.apply(lambda row:\n",
        "                                            SVD_Multiplication(row['svd_v_s_1'], row['svd_v_s_2'], row['svd_v_s_3'], \n",
        "                                                               row['svd_v_s_4'], row['svd_v_s_5'], row['svd_v_s_6'], \n",
        "                                                               row['svd_v_d_1'], row['svd_v_d_2'], row['svd_v_d_3'], \n",
        "                                                               row['svd_v_d_4'], row['svd_v_d_5'], row['svd_v_d_6']),\n",
        "                                                               axis=1)\n",
        "df_final_test['svdmultiplication_V'] = df_final_test.apply(lambda row:\n",
        "                                            SVD_Multiplication(row['svd_v_s_1'], row['svd_v_s_2'], row['svd_v_s_3'], \n",
        "                                                               row['svd_v_s_4'], row['svd_v_s_5'], row['svd_v_s_6'], \n",
        "                                                               row['svd_v_d_1'], row['svd_v_d_2'], row['svd_v_d_3'], \n",
        "                                                               row['svd_v_d_4'], row['svd_v_d_5'], row['svd_v_d_6']), \n",
        "                                                               axis=1)"
      ]
    },
    {
      "cell_type": "code",
      "execution_count": null,
      "metadata": {
        "colab": {
          "base_uri": "https://localhost:8080/",
          "height": 163
        },
        "id": "VnZamGoo3CpI",
        "outputId": "b4dc4985-79c1-487e-a173-d72c8a5bde33"
      },
      "outputs": [
        {
          "data": {
            "text/html": [
              "<div>\n",
              "<style scoped>\n",
              "    .dataframe tbody tr th:only-of-type {\n",
              "        vertical-align: middle;\n",
              "    }\n",
              "\n",
              "    .dataframe tbody tr th {\n",
              "        vertical-align: top;\n",
              "    }\n",
              "\n",
              "    .dataframe thead th {\n",
              "        text-align: right;\n",
              "    }\n",
              "</style>\n",
              "<table border=\"1\" class=\"dataframe\">\n",
              "  <thead>\n",
              "    <tr style=\"text-align: right;\">\n",
              "      <th></th>\n",
              "      <th>source_node</th>\n",
              "      <th>destination_node</th>\n",
              "      <th>indicator_link</th>\n",
              "      <th>jaccard_followers</th>\n",
              "      <th>jaccard_followees</th>\n",
              "      <th>cosine_followers</th>\n",
              "      <th>cosine_followees</th>\n",
              "      <th>num_followers_s</th>\n",
              "      <th>num_followees_s</th>\n",
              "      <th>num_followees_d</th>\n",
              "      <th>inter_followers</th>\n",
              "      <th>inter_followees</th>\n",
              "      <th>adar_index</th>\n",
              "      <th>follows_back</th>\n",
              "      <th>same_comp</th>\n",
              "      <th>shortest_path</th>\n",
              "      <th>weight_in</th>\n",
              "      <th>weight_out</th>\n",
              "      <th>weight_f1</th>\n",
              "      <th>weight_f2</th>\n",
              "      <th>weight_f3</th>\n",
              "      <th>weight_f4</th>\n",
              "      <th>page_rank_s</th>\n",
              "      <th>page_rank_d</th>\n",
              "      <th>katz_s</th>\n",
              "      <th>katz_d</th>\n",
              "      <th>hubs_s</th>\n",
              "      <th>hubs_d</th>\n",
              "      <th>authorities_s</th>\n",
              "      <th>authorities_d</th>\n",
              "      <th>svd_u_s_1</th>\n",
              "      <th>svd_u_s_2</th>\n",
              "      <th>svd_u_s_3</th>\n",
              "      <th>svd_u_s_4</th>\n",
              "      <th>svd_u_s_5</th>\n",
              "      <th>svd_u_s_6</th>\n",
              "      <th>svd_u_d_1</th>\n",
              "      <th>svd_u_d_2</th>\n",
              "      <th>svd_u_d_3</th>\n",
              "      <th>svd_u_d_4</th>\n",
              "      <th>svd_u_d_5</th>\n",
              "      <th>svd_u_d_6</th>\n",
              "      <th>svd_v_s_1</th>\n",
              "      <th>svd_v_s_2</th>\n",
              "      <th>svd_v_s_3</th>\n",
              "      <th>svd_v_s_4</th>\n",
              "      <th>svd_v_s_5</th>\n",
              "      <th>svd_v_s_6</th>\n",
              "      <th>svd_v_d_1</th>\n",
              "      <th>svd_v_d_2</th>\n",
              "      <th>svd_v_d_3</th>\n",
              "      <th>svd_v_d_4</th>\n",
              "      <th>svd_v_d_5</th>\n",
              "      <th>svd_v_d_6</th>\n",
              "      <th>Preferential_Attachment_follower</th>\n",
              "      <th>Preferential_Attachment_followee</th>\n",
              "      <th>svdmultiplication_U</th>\n",
              "      <th>svdmultiplication_V</th>\n",
              "    </tr>\n",
              "  </thead>\n",
              "  <tbody>\n",
              "    <tr>\n",
              "      <th>0</th>\n",
              "      <td>273084</td>\n",
              "      <td>1505602</td>\n",
              "      <td>1</td>\n",
              "      <td>0</td>\n",
              "      <td>0.000000</td>\n",
              "      <td>0.000000</td>\n",
              "      <td>0.000000</td>\n",
              "      <td>6</td>\n",
              "      <td>15</td>\n",
              "      <td>8</td>\n",
              "      <td>0</td>\n",
              "      <td>0</td>\n",
              "      <td>0.000000</td>\n",
              "      <td>0</td>\n",
              "      <td>1</td>\n",
              "      <td>4</td>\n",
              "      <td>0.377964</td>\n",
              "      <td>0.250000</td>\n",
              "      <td>0.627964</td>\n",
              "      <td>0.094491</td>\n",
              "      <td>1.005929</td>\n",
              "      <td>0.877964</td>\n",
              "      <td>2.045290e-06</td>\n",
              "      <td>3.459963e-07</td>\n",
              "      <td>0.000773</td>\n",
              "      <td>0.000756</td>\n",
              "      <td>1.943132e-13</td>\n",
              "      <td>1.941103e-13</td>\n",
              "      <td>9.226339e-16</td>\n",
              "      <td>2.231877e-15</td>\n",
              "      <td>-1.666226e-13</td>\n",
              "      <td>4.613397e-13</td>\n",
              "      <td>1.043044e-05</td>\n",
              "      <td>6.676960e-13</td>\n",
              "      <td>2.451081e-13</td>\n",
              "      <td>3.584580e-12</td>\n",
              "      <td>-2.038017e-11</td>\n",
              "      <td>5.397495e-13</td>\n",
              "      <td>1.068946e-06</td>\n",
              "      <td>1.192357e-12</td>\n",
              "      <td>2.279485e-12</td>\n",
              "      <td>3.580837e-12</td>\n",
              "      <td>-7.216133e-13</td>\n",
              "      <td>3.925975e-13</td>\n",
              "      <td>1.983691e-06</td>\n",
              "      <td>1.545075e-13</td>\n",
              "      <td>8.108434e-13</td>\n",
              "      <td>1.719702e-14</td>\n",
              "      <td>-1.355368e-12</td>\n",
              "      <td>4.675307e-13</td>\n",
              "      <td>1.128591e-06</td>\n",
              "      <td>6.616550e-14</td>\n",
              "      <td>9.771077e-13</td>\n",
              "      <td>4.159752e-14</td>\n",
              "      <td>66</td>\n",
              "      <td>120</td>\n",
              "      <td>1.114958e-11</td>\n",
              "      <td>2.238775e-12</td>\n",
              "    </tr>\n",
              "    <tr>\n",
              "      <th>1</th>\n",
              "      <td>832016</td>\n",
              "      <td>1543415</td>\n",
              "      <td>1</td>\n",
              "      <td>0</td>\n",
              "      <td>0.187135</td>\n",
              "      <td>0.028382</td>\n",
              "      <td>0.343828</td>\n",
              "      <td>94</td>\n",
              "      <td>61</td>\n",
              "      <td>142</td>\n",
              "      <td>11</td>\n",
              "      <td>32</td>\n",
              "      <td>16.362912</td>\n",
              "      <td>0</td>\n",
              "      <td>1</td>\n",
              "      <td>2</td>\n",
              "      <td>0.102598</td>\n",
              "      <td>0.127000</td>\n",
              "      <td>0.229598</td>\n",
              "      <td>0.013030</td>\n",
              "      <td>0.332196</td>\n",
              "      <td>0.356598</td>\n",
              "      <td>2.353458e-07</td>\n",
              "      <td>6.427660e-07</td>\n",
              "      <td>0.000845</td>\n",
              "      <td>0.001317</td>\n",
              "      <td>3.906648e-11</td>\n",
              "      <td>9.424102e-11</td>\n",
              "      <td>1.208074e-11</td>\n",
              "      <td>1.273080e-10</td>\n",
              "      <td>7.051088e-13</td>\n",
              "      <td>-8.250564e-11</td>\n",
              "      <td>-1.717702e-10</td>\n",
              "      <td>3.705016e-02</td>\n",
              "      <td>1.032392e-11</td>\n",
              "      <td>7.207497e-10</td>\n",
              "      <td>1.644399e-12</td>\n",
              "      <td>-2.047752e-10</td>\n",
              "      <td>-3.943936e-10</td>\n",
              "      <td>8.617541e-02</td>\n",
              "      <td>2.399540e-11</td>\n",
              "      <td>1.738682e-09</td>\n",
              "      <td>2.685878e-13</td>\n",
              "      <td>-3.316849e-11</td>\n",
              "      <td>-6.236048e-11</td>\n",
              "      <td>1.345726e-02</td>\n",
              "      <td>3.703479e-12</td>\n",
              "      <td>2.251737e-10</td>\n",
              "      <td>1.245101e-12</td>\n",
              "      <td>-1.636948e-10</td>\n",
              "      <td>-3.112650e-10</td>\n",
              "      <td>6.738902e-02</td>\n",
              "      <td>2.607801e-11</td>\n",
              "      <td>2.372904e-09</td>\n",
              "      <td>1598</td>\n",
              "      <td>8662</td>\n",
              "      <td>3.192812e-03</td>\n",
              "      <td>9.068719e-04</td>\n",
              "    </tr>\n",
              "    <tr>\n",
              "      <th>2</th>\n",
              "      <td>1325247</td>\n",
              "      <td>760242</td>\n",
              "      <td>1</td>\n",
              "      <td>0</td>\n",
              "      <td>0.369565</td>\n",
              "      <td>0.156957</td>\n",
              "      <td>0.566038</td>\n",
              "      <td>28</td>\n",
              "      <td>41</td>\n",
              "      <td>22</td>\n",
              "      <td>26</td>\n",
              "      <td>17</td>\n",
              "      <td>10.991826</td>\n",
              "      <td>0</td>\n",
              "      <td>1</td>\n",
              "      <td>2</td>\n",
              "      <td>0.185695</td>\n",
              "      <td>0.154303</td>\n",
              "      <td>0.339999</td>\n",
              "      <td>0.028653</td>\n",
              "      <td>0.525694</td>\n",
              "      <td>0.494302</td>\n",
              "      <td>6.211019e-07</td>\n",
              "      <td>5.179801e-07</td>\n",
              "      <td>0.000885</td>\n",
              "      <td>0.000855</td>\n",
              "      <td>7.730764e-114</td>\n",
              "      <td>4.067322e-114</td>\n",
              "      <td>2.681298e-113</td>\n",
              "      <td>2.199205e-113</td>\n",
              "      <td>-4.900734e-18</td>\n",
              "      <td>1.096831e-18</td>\n",
              "      <td>-6.816555e-19</td>\n",
              "      <td>-2.226453e-18</td>\n",
              "      <td>6.710556e-19</td>\n",
              "      <td>-8.161336e-19</td>\n",
              "      <td>-2.606312e-18</td>\n",
              "      <td>6.392474e-19</td>\n",
              "      <td>-4.245830e-19</td>\n",
              "      <td>-1.315747e-18</td>\n",
              "      <td>3.849627e-19</td>\n",
              "      <td>-1.131971e-18</td>\n",
              "      <td>-1.510265e-18</td>\n",
              "      <td>1.454979e-19</td>\n",
              "      <td>-2.380564e-19</td>\n",
              "      <td>-7.021227e-19</td>\n",
              "      <td>1.940403e-19</td>\n",
              "      <td>-3.365389e-19</td>\n",
              "      <td>-1.238370e-18</td>\n",
              "      <td>1.438175e-19</td>\n",
              "      <td>-1.852863e-19</td>\n",
              "      <td>-5.901864e-19</td>\n",
              "      <td>1.629341e-19</td>\n",
              "      <td>-2.572452e-19</td>\n",
              "      <td>980</td>\n",
              "      <td>902</td>\n",
              "      <td>1.787503e-35</td>\n",
              "      <td>2.467873e-36</td>\n",
              "    </tr>\n",
              "  </tbody>\n",
              "</table>\n",
              "</div>"
            ],
            "text/plain": [
              "   source_node  destination_node  ...  svdmultiplication_U  svdmultiplication_V\n",
              "0       273084           1505602  ...         1.114958e-11         2.238775e-12\n",
              "1       832016           1543415  ...         3.192812e-03         9.068719e-04\n",
              "2      1325247            760242  ...         1.787503e-35         2.467873e-36\n",
              "\n",
              "[3 rows x 58 columns]"
            ]
          },
          "execution_count": 16,
          "metadata": {
            "tags": []
          },
          "output_type": "execute_result"
        }
      ],
      "source": [
        "df_final_train.head(3)"
      ]
    },
    {
      "cell_type": "code",
      "execution_count": null,
      "metadata": {
        "colab": {
          "base_uri": "https://localhost:8080/",
          "height": 163
        },
        "id": "rStL6yXF3Cmh",
        "outputId": "281d68a2-f76a-4cf0-bf77-c48c399c8ea3"
      },
      "outputs": [
        {
          "data": {
            "text/html": [
              "<div>\n",
              "<style scoped>\n",
              "    .dataframe tbody tr th:only-of-type {\n",
              "        vertical-align: middle;\n",
              "    }\n",
              "\n",
              "    .dataframe tbody tr th {\n",
              "        vertical-align: top;\n",
              "    }\n",
              "\n",
              "    .dataframe thead th {\n",
              "        text-align: right;\n",
              "    }\n",
              "</style>\n",
              "<table border=\"1\" class=\"dataframe\">\n",
              "  <thead>\n",
              "    <tr style=\"text-align: right;\">\n",
              "      <th></th>\n",
              "      <th>source_node</th>\n",
              "      <th>destination_node</th>\n",
              "      <th>indicator_link</th>\n",
              "      <th>jaccard_followers</th>\n",
              "      <th>jaccard_followees</th>\n",
              "      <th>cosine_followers</th>\n",
              "      <th>cosine_followees</th>\n",
              "      <th>num_followers_s</th>\n",
              "      <th>num_followees_s</th>\n",
              "      <th>num_followees_d</th>\n",
              "      <th>inter_followers</th>\n",
              "      <th>inter_followees</th>\n",
              "      <th>adar_index</th>\n",
              "      <th>follows_back</th>\n",
              "      <th>same_comp</th>\n",
              "      <th>shortest_path</th>\n",
              "      <th>weight_in</th>\n",
              "      <th>weight_out</th>\n",
              "      <th>weight_f1</th>\n",
              "      <th>weight_f2</th>\n",
              "      <th>weight_f3</th>\n",
              "      <th>weight_f4</th>\n",
              "      <th>page_rank_s</th>\n",
              "      <th>page_rank_d</th>\n",
              "      <th>katz_s</th>\n",
              "      <th>katz_d</th>\n",
              "      <th>hubs_s</th>\n",
              "      <th>hubs_d</th>\n",
              "      <th>authorities_s</th>\n",
              "      <th>authorities_d</th>\n",
              "      <th>svd_u_s_1</th>\n",
              "      <th>svd_u_s_2</th>\n",
              "      <th>svd_u_s_3</th>\n",
              "      <th>svd_u_s_4</th>\n",
              "      <th>svd_u_s_5</th>\n",
              "      <th>svd_u_s_6</th>\n",
              "      <th>svd_u_d_1</th>\n",
              "      <th>svd_u_d_2</th>\n",
              "      <th>svd_u_d_3</th>\n",
              "      <th>svd_u_d_4</th>\n",
              "      <th>svd_u_d_5</th>\n",
              "      <th>svd_u_d_6</th>\n",
              "      <th>svd_v_s_1</th>\n",
              "      <th>svd_v_s_2</th>\n",
              "      <th>svd_v_s_3</th>\n",
              "      <th>svd_v_s_4</th>\n",
              "      <th>svd_v_s_5</th>\n",
              "      <th>svd_v_s_6</th>\n",
              "      <th>svd_v_d_1</th>\n",
              "      <th>svd_v_d_2</th>\n",
              "      <th>svd_v_d_3</th>\n",
              "      <th>svd_v_d_4</th>\n",
              "      <th>svd_v_d_5</th>\n",
              "      <th>svd_v_d_6</th>\n",
              "      <th>Preferential_Attachment_follower</th>\n",
              "      <th>Preferential_Attachment_followee</th>\n",
              "      <th>svdmultiplication_U</th>\n",
              "      <th>svdmultiplication_V</th>\n",
              "    </tr>\n",
              "  </thead>\n",
              "  <tbody>\n",
              "    <tr>\n",
              "      <th>0</th>\n",
              "      <td>848424</td>\n",
              "      <td>784690</td>\n",
              "      <td>1</td>\n",
              "      <td>0</td>\n",
              "      <td>0.0</td>\n",
              "      <td>0.029161</td>\n",
              "      <td>0.0</td>\n",
              "      <td>14</td>\n",
              "      <td>6</td>\n",
              "      <td>9</td>\n",
              "      <td>1</td>\n",
              "      <td>0</td>\n",
              "      <td>0.0</td>\n",
              "      <td>1</td>\n",
              "      <td>1</td>\n",
              "      <td>2</td>\n",
              "      <td>0.258199</td>\n",
              "      <td>0.377964</td>\n",
              "      <td>0.636163</td>\n",
              "      <td>0.097590</td>\n",
              "      <td>0.894362</td>\n",
              "      <td>1.014128</td>\n",
              "      <td>6.557971e-07</td>\n",
              "      <td>0.000002</td>\n",
              "      <td>0.000754</td>\n",
              "      <td>0.000786</td>\n",
              "      <td>3.243237e-16</td>\n",
              "      <td>1.745627e-16</td>\n",
              "      <td>2.969838e-15</td>\n",
              "      <td>9.269213e-14</td>\n",
              "      <td>-9.987979e-12</td>\n",
              "      <td>2.283676e-13</td>\n",
              "      <td>1.439968e-10</td>\n",
              "      <td>6.136162e-13</td>\n",
              "      <td>4.188171e-13</td>\n",
              "      <td>5.983361e-15</td>\n",
              "      <td>-1.026186e-11</td>\n",
              "      <td>5.316372e-13</td>\n",
              "      <td>5.843225e-10</td>\n",
              "      <td>1.166047e-13</td>\n",
              "      <td>2.253356e-11</td>\n",
              "      <td>3.220367e-15</td>\n",
              "      <td>-2.148852e-13</td>\n",
              "      <td>1.883148e-13</td>\n",
              "      <td>5.904807e-11</td>\n",
              "      <td>2.701538e-12</td>\n",
              "      <td>4.341620e-13</td>\n",
              "      <td>5.535503e-14</td>\n",
              "      <td>-9.994076e-10</td>\n",
              "      <td>5.791910e-10</td>\n",
              "      <td>3.512364e-07</td>\n",
              "      <td>2.486658e-09</td>\n",
              "      <td>2.771146e-09</td>\n",
              "      <td>1.727694e-12</td>\n",
              "      <td>84</td>\n",
              "      <td>54</td>\n",
              "      <td>8.425267e-20</td>\n",
              "      <td>2.074808e-17</td>\n",
              "    </tr>\n",
              "    <tr>\n",
              "      <th>1</th>\n",
              "      <td>483294</td>\n",
              "      <td>1255532</td>\n",
              "      <td>1</td>\n",
              "      <td>0</td>\n",
              "      <td>0.0</td>\n",
              "      <td>0.000000</td>\n",
              "      <td>0.0</td>\n",
              "      <td>17</td>\n",
              "      <td>1</td>\n",
              "      <td>19</td>\n",
              "      <td>0</td>\n",
              "      <td>0</td>\n",
              "      <td>0.0</td>\n",
              "      <td>1</td>\n",
              "      <td>1</td>\n",
              "      <td>7</td>\n",
              "      <td>0.235702</td>\n",
              "      <td>0.707107</td>\n",
              "      <td>0.942809</td>\n",
              "      <td>0.166667</td>\n",
              "      <td>1.178511</td>\n",
              "      <td>1.649916</td>\n",
              "      <td>2.172064e-07</td>\n",
              "      <td>0.000001</td>\n",
              "      <td>0.000739</td>\n",
              "      <td>0.000801</td>\n",
              "      <td>1.702625e-19</td>\n",
              "      <td>2.706300e-15</td>\n",
              "      <td>2.522357e-16</td>\n",
              "      <td>5.277458e-15</td>\n",
              "      <td>-2.079151e-15</td>\n",
              "      <td>7.009864e-16</td>\n",
              "      <td>6.970710e-10</td>\n",
              "      <td>9.561769e-15</td>\n",
              "      <td>1.728794e-15</td>\n",
              "      <td>3.122935e-18</td>\n",
              "      <td>-1.960277e-11</td>\n",
              "      <td>2.861530e-11</td>\n",
              "      <td>1.939773e-08</td>\n",
              "      <td>1.907382e-12</td>\n",
              "      <td>3.797410e-11</td>\n",
              "      <td>4.992848e-14</td>\n",
              "      <td>-4.054309e-13</td>\n",
              "      <td>2.895682e-13</td>\n",
              "      <td>2.545382e-10</td>\n",
              "      <td>2.248568e-14</td>\n",
              "      <td>3.600957e-13</td>\n",
              "      <td>4.701436e-15</td>\n",
              "      <td>-9.360516e-12</td>\n",
              "      <td>3.206809e-10</td>\n",
              "      <td>4.668696e-08</td>\n",
              "      <td>6.665777e-12</td>\n",
              "      <td>1.495979e-10</td>\n",
              "      <td>9.836670e-14</td>\n",
              "      <td>34</td>\n",
              "      <td>19</td>\n",
              "      <td>1.352160e-17</td>\n",
              "      <td>1.188376e-17</td>\n",
              "    </tr>\n",
              "    <tr>\n",
              "      <th>2</th>\n",
              "      <td>626190</td>\n",
              "      <td>1729265</td>\n",
              "      <td>1</td>\n",
              "      <td>0</td>\n",
              "      <td>0.0</td>\n",
              "      <td>0.000000</td>\n",
              "      <td>0.0</td>\n",
              "      <td>10</td>\n",
              "      <td>16</td>\n",
              "      <td>9</td>\n",
              "      <td>0</td>\n",
              "      <td>0</td>\n",
              "      <td>0.0</td>\n",
              "      <td>0</td>\n",
              "      <td>1</td>\n",
              "      <td>5</td>\n",
              "      <td>0.301511</td>\n",
              "      <td>0.242536</td>\n",
              "      <td>0.544047</td>\n",
              "      <td>0.073127</td>\n",
              "      <td>0.845558</td>\n",
              "      <td>0.786583</td>\n",
              "      <td>1.853369e-06</td>\n",
              "      <td>0.000002</td>\n",
              "      <td>0.000789</td>\n",
              "      <td>0.000770</td>\n",
              "      <td>9.426796e-14</td>\n",
              "      <td>4.116616e-16</td>\n",
              "      <td>2.253244e-15</td>\n",
              "      <td>2.079387e-15</td>\n",
              "      <td>-1.782290e-11</td>\n",
              "      <td>2.389627e-11</td>\n",
              "      <td>1.443050e-06</td>\n",
              "      <td>2.358030e-12</td>\n",
              "      <td>2.689638e-12</td>\n",
              "      <td>1.739178e-12</td>\n",
              "      <td>-1.863934e-13</td>\n",
              "      <td>1.806783e-13</td>\n",
              "      <td>2.544597e-07</td>\n",
              "      <td>1.693295e-13</td>\n",
              "      <td>2.712748e-13</td>\n",
              "      <td>7.594641e-15</td>\n",
              "      <td>-4.148103e-13</td>\n",
              "      <td>4.618813e-12</td>\n",
              "      <td>1.122150e-05</td>\n",
              "      <td>1.778927e-12</td>\n",
              "      <td>2.740535e-13</td>\n",
              "      <td>4.199834e-14</td>\n",
              "      <td>-4.253075e-13</td>\n",
              "      <td>4.789463e-13</td>\n",
              "      <td>3.479824e-07</td>\n",
              "      <td>1.630549e-13</td>\n",
              "      <td>3.954708e-13</td>\n",
              "      <td>3.875785e-14</td>\n",
              "      <td>150</td>\n",
              "      <td>144</td>\n",
              "      <td>3.671980e-13</td>\n",
              "      <td>3.904885e-12</td>\n",
              "    </tr>\n",
              "  </tbody>\n",
              "</table>\n",
              "</div>"
            ],
            "text/plain": [
              "   source_node  destination_node  ...  svdmultiplication_U  svdmultiplication_V\n",
              "0       848424            784690  ...         8.425267e-20         2.074808e-17\n",
              "1       483294           1255532  ...         1.352160e-17         1.188376e-17\n",
              "2       626190           1729265  ...         3.671980e-13         3.904885e-12\n",
              "\n",
              "[3 rows x 58 columns]"
            ]
          },
          "execution_count": 17,
          "metadata": {
            "tags": []
          },
          "output_type": "execute_result"
        }
      ],
      "source": [
        "df_final_test.head(3)"
      ]
    },
    {
      "cell_type": "code",
      "execution_count": null,
      "metadata": {
        "collapsed": true,
        "id": "XRW7VZ4AHglc"
      },
      "outputs": [],
      "source": [
        "y_train = df_final_train.indicator_link\n",
        "y_test = df_final_test.indicator_link"
      ]
    },
    {
      "cell_type": "code",
      "execution_count": null,
      "metadata": {
        "collapsed": true,
        "id": "4lj9M_qtHglf"
      },
      "outputs": [],
      "source": [
        "df_final_train.drop(['source_node', 'destination_node','indicator_link'],axis=1,inplace=True)\n",
        "df_final_test.drop(['source_node', 'destination_node','indicator_link'],axis=1,inplace=True)"
      ]
    },
    {
      "cell_type": "markdown",
      "metadata": {
        "id": "MpkdmrzGcw3-"
      },
      "source": [
        "## Random Forest"
      ]
    },
    {
      "cell_type": "code",
      "execution_count": null,
      "metadata": {
        "colab": {
          "base_uri": "https://localhost:8080/",
          "height": 399
        },
        "id": "lIEc91uVHgli",
        "outputId": "5ada022a-b5cc-4ffa-95cd-9b9e5f1fbd02"
      },
      "outputs": [
        {
          "name": "stdout",
          "output_type": "stream",
          "text": [
            "Estimators =  10 Train Score 0.9173345593997847 test Score 0.8935879945429741\n",
            "Estimators =  50 Train Score 0.9192386456958116 test Score 0.9118612185181315\n",
            "Estimators =  100 Train Score 0.9198345726460022 test Score 0.9152137468566639\n",
            "Estimators =  250 Train Score 0.9201179102293396 test Score 0.9128496319663512\n",
            "Estimators =  450 Train Score 0.9213363308412192 test Score 0.9138925129413746\n"
          ]
        },
        {
          "data": {
            "text/plain": [
              "Text(0.5, 1.0, 'Estimators vs score at depth of 5')"
            ]
          },
          "execution_count": 20,
          "metadata": {
            "tags": []
          },
          "output_type": "execute_result"
        },
        {
          "data": {
            "image/png": "[encoded data removed]",
            "text/plain": [
              "<Figure size 432x288 with 1 Axes>"
            ]
          },
          "metadata": {
            "tags": []
          },
          "output_type": "display_data"
        }
      ],
      "source": [
        "estimators = [10,50,100,250,450]\n",
        "train_scores = []\n",
        "test_scores = []\n",
        "for i in estimators:\n",
        "    clf = RandomForestClassifier(bootstrap=True, class_weight=None, criterion='gini',\n",
        "            max_depth=5, max_features='auto', max_leaf_nodes=None,\n",
        "            min_impurity_decrease=0.0, min_impurity_split=None,\n",
        "            min_samples_leaf=52, min_samples_split=120,\n",
        "            min_weight_fraction_leaf=0.0, n_estimators=i, n_jobs=-1,random_state=25,verbose=0,warm_start=False)\n",
        "    clf.fit(df_final_train,y_train)\n",
        "    train_sc = f1_score(y_train,clf.predict(df_final_train))\n",
        "    test_sc = f1_score(y_test,clf.predict(df_final_test))\n",
        "    test_scores.append(test_sc)\n",
        "    train_scores.append(train_sc)\n",
        "    print('Estimators = ',i,'Train Score',train_sc,'test Score',test_sc)\n",
        "plt.plot(estimators,train_scores,label='Train Score')\n",
        "plt.plot(estimators,test_scores,label='Test Score')\n",
        "plt.xlabel('Estimators')\n",
        "plt.ylabel('Score')\n",
        "plt.title('Estimators vs score at depth of 5')"
      ]
    },
    {
      "cell_type": "code",
      "execution_count": null,
      "metadata": {
        "colab": {
          "base_uri": "https://localhost:8080/",
          "height": 451
        },
        "id": "nZxhrTdQHglm",
        "outputId": "2c888367-2db1-4fa5-f430-de99f65b1d03"
      },
      "outputs": [
        {
          "name": "stdout",
          "output_type": "stream",
          "text": [
            "depth =  3 Train Score 0.9065758935478879 test Score 0.8888283264501793\n",
            "depth =  9 Train Score 0.9580932212018164 test Score 0.9207555133481059\n",
            "depth =  11 Train Score 0.9612422006788204 test Score 0.9250105263157894\n",
            "depth =  15 Train Score 0.9630285272453506 test Score 0.9259298327039516\n",
            "depth =  20 Train Score 0.9637434023548518 test Score 0.9263804972526896\n",
            "depth =  35 Train Score 0.9637238383305252 test Score 0.9263219939373527\n",
            "depth =  50 Train Score 0.9637238383305252 test Score 0.9263219939373527\n",
            "depth =  70 Train Score 0.9637238383305252 test Score 0.9263219939373527\n",
            "depth =  130 Train Score 0.9637238383305252 test Score 0.9263219939373527\n"
          ]
        },
        {
          "data": {
            "image/png": "[encoded data removed]",
            "text/plain": [
              "<Figure size 432x288 with 1 Axes>"
            ]
          },
          "metadata": {
            "tags": []
          },
          "output_type": "display_data"
        }
      ],
      "source": [
        "depths = [3,9,11,15,20,35,50,70,130]\n",
        "train_scores = []\n",
        "test_scores = []\n",
        "for i in depths:\n",
        "    clf = RandomForestClassifier(bootstrap=True, class_weight=None, criterion='gini',\n",
        "            max_depth=i, max_features='auto', max_leaf_nodes=None,\n",
        "            min_impurity_decrease=0.0, min_impurity_split=None,\n",
        "            min_samples_leaf=52, min_samples_split=120,\n",
        "            min_weight_fraction_leaf=0.0, n_estimators=115, n_jobs=-1,random_state=25,verbose=0,warm_start=False)\n",
        "    clf.fit(df_final_train,y_train)\n",
        "    train_sc = f1_score(y_train,clf.predict(df_final_train))\n",
        "    test_sc = f1_score(y_test,clf.predict(df_final_test))\n",
        "    test_scores.append(test_sc)\n",
        "    train_scores.append(train_sc)\n",
        "    print('depth = ',i,'Train Score',train_sc,'test Score',test_sc)\n",
        "plt.plot(depths,train_scores,label='Train Score')\n",
        "plt.plot(depths,test_scores,label='Test Score')\n",
        "plt.xlabel('Depth')\n",
        "plt.ylabel('Score')\n",
        "plt.title('Depth vs score at depth of 5 at estimators = 115')\n",
        "plt.show()"
      ]
    },
    {
      "cell_type": "code",
      "execution_count": null,
      "metadata": {
        "colab": {
          "base_uri": "https://localhost:8080/",
          "height": 367
        },
        "id": "MrG1Lfl3Hglq",
        "outputId": "19ae10a3-f5cf-4494-8476-2e96e8e4823f"
      },
      "outputs": [
        {
          "data": {
            "text/plain": [
              "RandomizedSearchCV(cv=10, error_score='raise-deprecating',\n",
              "                   estimator=RandomForestClassifier(bootstrap=True,\n",
              "                                                    class_weight=None,\n",
              "                                                    criterion='gini',\n",
              "                                                    max_depth=None,\n",
              "                                                    max_features='auto',\n",
              "                                                    max_leaf_nodes=None,\n",
              "                                                    min_impurity_decrease=0.0,\n",
              "                                                    min_impurity_split=None,\n",
              "                                                    min_samples_leaf=1,\n",
              "                                                    min_samples_split=2,\n",
              "                                                    min_weight_fraction_leaf=0.0,\n",
              "                                                    n_estimators='warn',\n",
              "                                                    n_jobs=-1, oob_sco...\n",
              "                                        'min_samples_leaf': <scipy.stats._distn_infrastructure.rv_frozen object at 0x7f6d9c99f6d8>,\n",
              "                                        'min_samples_split': <scipy.stats._distn_infrastructure.rv_frozen object at 0x7f6d9c99ff60>,\n",
              "                                        'n_estimators': <scipy.stats._distn_infrastructure.rv_frozen object at 0x7f6d9c99f668>},\n",
              "                   pre_dispatch='2*n_jobs', random_state=25, refit=True,\n",
              "                   return_train_score=False, scoring='f1', verbose=0)"
            ]
          },
          "execution_count": 22,
          "metadata": {
            "tags": []
          },
          "output_type": "execute_result"
        }
      ],
      "source": [
        "from sklearn.metrics import f1_score\n",
        "from sklearn.ensemble import RandomForestClassifier\n",
        "from sklearn.metrics import f1_score\n",
        "from sklearn.model_selection import RandomizedSearchCV\n",
        "from scipy.stats import randint as sp_randint\n",
        "from scipy.stats import uniform\n",
        "\n",
        "param_dist = {\"n_estimators\":sp_randint(105,125),\n",
        "              \"max_depth\": sp_randint(10,15),\n",
        "              \"min_samples_split\": sp_randint(110,190),\n",
        "              \"min_samples_leaf\": sp_randint(25,65)}\n",
        "\n",
        "clf = RandomForestClassifier(random_state=25,n_jobs=-1)\n",
        "\n",
        "rf_random = RandomizedSearchCV(clf, param_distributions=param_dist,\n",
        "                                   n_iter=5,cv=10,scoring='f1',random_state=25)\n",
        "\n",
        "rf_random.fit(df_final_train,y_train)\n"
      ]
    },
    {
      "cell_type": "code",
      "execution_count": null,
      "metadata": {
        "colab": {
          "base_uri": "https://localhost:8080/",
          "height": 34
        },
        "id": "2FUSgO8kamf8",
        "outputId": "fdb28044-22a7-49f5-f569-f21e935f6022"
      },
      "outputs": [
        {
          "name": "stdout",
          "output_type": "stream",
          "text": [
            "mean test scores [0.96200265 0.96203933 0.96068403 0.96145238 0.9629389 ]\n"
          ]
        }
      ],
      "source": [
        "print('mean test scores',rf_random.cv_results_['mean_test_score'])\n"
      ]
    },
    {
      "cell_type": "code",
      "execution_count": null,
      "metadata": {
        "colab": {
          "base_uri": "https://localhost:8080/",
          "height": 139
        },
        "id": "hme3j_diHglu",
        "outputId": "576f988b-5143-42bf-e2b3-fb3d017735e8"
      },
      "outputs": [
        {
          "name": "stdout",
          "output_type": "stream",
          "text": [
            "RandomForestClassifier(bootstrap=True, class_weight=None, criterion='gini',\n",
            "                       max_depth=14, max_features='auto', max_leaf_nodes=None,\n",
            "                       min_impurity_decrease=0.0, min_impurity_split=None,\n",
            "                       min_samples_leaf=28, min_samples_split=111,\n",
            "                       min_weight_fraction_leaf=0.0, n_estimators=121,\n",
            "                       n_jobs=-1, oob_score=False, random_state=25, verbose=0,\n",
            "                       warm_start=False)\n"
          ]
        }
      ],
      "source": [
        "print(rf_random.best_estimator_)"
      ]
    },
    {
      "cell_type": "code",
      "execution_count": null,
      "metadata": {
        "collapsed": true,
        "id": "qu4KIEweHglx"
      },
      "outputs": [],
      "source": [
        "clf = RandomForestClassifier(bootstrap=True, class_weight=None, criterion='gini',\n",
        "            max_depth=14, max_features='auto', max_leaf_nodes=None,\n",
        "            min_impurity_decrease=0.0, min_impurity_split=None,\n",
        "            min_samples_leaf=28, min_samples_split=111,\n",
        "            min_weight_fraction_leaf=0.0, n_estimators=121, n_jobs=-1,\n",
        "            oob_score=False, random_state=25, verbose=0, warm_start=False)"
      ]
    },
    {
      "cell_type": "code",
      "execution_count": null,
      "metadata": {
        "collapsed": true,
        "id": "Dax83GfLHgl1"
      },
      "outputs": [],
      "source": [
        "clf.fit(df_final_train,y_train)\n",
        "y_train_pred = clf.predict(df_final_train)\n",
        "y_test_pred = clf.predict(df_final_test)"
      ]
    },
    {
      "cell_type": "code",
      "execution_count": null,
      "metadata": {
        "colab": {
          "base_uri": "https://localhost:8080/",
          "height": 52
        },
        "id": "PTtAp1iTHgl4",
        "outputId": "3887c8c4-d053-420a-f869-217fbd5220cc"
      },
      "outputs": [
        {
          "name": "stdout",
          "output_type": "stream",
          "text": [
            "Train f1 score 0.9641732843187033\n",
            "Test f1 score 0.9263485914010191\n"
          ]
        }
      ],
      "source": [
        "from sklearn.metrics import f1_score\n",
        "print('Train f1 score',f1_score(y_train,y_train_pred))\n",
        "print('Test f1 score',f1_score(y_test,y_test_pred))"
      ]
    },
    {
      "cell_type": "code",
      "execution_count": null,
      "metadata": {
        "collapsed": true,
        "id": "5XfUkZYQHgl7"
      },
      "outputs": [],
      "source": [
        "from sklearn.metrics import confusion_matrix\n",
        "def plot_confusion_matrix(test_y, predict_y):\n",
        "    C = confusion_matrix(test_y, predict_y)\n",
        "    \n",
        "    A =(((C.T)/(C.sum(axis=1))).T)\n",
        "    \n",
        "    B =(C/C.sum(axis=0))\n",
        "    plt.figure(figsize=(20,4))\n",
        "    \n",
        "    labels = [0,1]\n",
        "    # representing A in heatmap format\n",
        "    cmap=sns.light_palette(\"blue\")\n",
        "    plt.subplot(1, 3, 1)\n",
        "    sns.heatmap(C, annot=True, cmap=cmap, fmt=\".3f\", xticklabels=labels, yticklabels=labels)\n",
        "    plt.xlabel('Predicted Class')\n",
        "    plt.ylabel('Original Class')\n",
        "    plt.title(\"Confusion matrix\")\n",
        "    \n",
        "    plt.subplot(1, 3, 2)\n",
        "    sns.heatmap(B, annot=True, cmap=cmap, fmt=\".3f\", xticklabels=labels, yticklabels=labels)\n",
        "    plt.xlabel('Predicted Class')\n",
        "    plt.ylabel('Original Class')\n",
        "    plt.title(\"Precision matrix\")\n",
        "    \n",
        "    plt.subplot(1, 3, 3)\n",
        "    # representing B in heatmap format\n",
        "    sns.heatmap(A, annot=True, cmap=cmap, fmt=\".3f\", xticklabels=labels, yticklabels=labels)\n",
        "    plt.xlabel('Predicted Class')\n",
        "    plt.ylabel('Original Class')\n",
        "    plt.title(\"Recall matrix\")\n",
        "    \n",
        "    plt.show()"
      ]
    },
    {
      "cell_type": "code",
      "execution_count": null,
      "metadata": {
        "colab": {
          "base_uri": "https://localhost:8080/",
          "height": 628
        },
        "id": "s6t11dhTHgl-",
        "outputId": "7efb451b-1ffe-444d-d1a5-f3bfc61fa553"
      },
      "outputs": [
        {
          "name": "stdout",
          "output_type": "stream",
          "text": [
            "Train confusion_matrix\n"
          ]
        },
        {
          "data": {
            "image/png": "[encoded data removed]",
            "text/plain": [
              "<Figure size 1440x288 with 6 Axes>"
            ]
          },
          "metadata": {
            "tags": []
          },
          "output_type": "display_data"
        },
        {
          "name": "stdout",
          "output_type": "stream",
          "text": [
            "Test confusion_matrix\n"
          ]
        },
        {
          "data": {
            "image/png": "[encoded data removed]",
            "text/plain": [
              "<Figure size 1440x288 with 6 Axes>"
            ]
          },
          "metadata": {
            "tags": []
          },
          "output_type": "display_data"
        }
      ],
      "source": [
        "print('Train confusion_matrix')\n",
        "plot_confusion_matrix(y_train,y_train_pred)\n",
        "print('Test confusion_matrix')\n",
        "plot_confusion_matrix(y_test,y_test_pred)"
      ]
    },
    {
      "cell_type": "code",
      "execution_count": null,
      "metadata": {
        "colab": {
          "base_uri": "https://localhost:8080/",
          "height": 295
        },
        "id": "61TF-VLeHgmD",
        "outputId": "3fb5b25d-d2cb-4a77-85af-46ab91da71ad"
      },
      "outputs": [
        {
          "data": {
            "image/png": "[encoded data removed]",
            "text/plain": [
              "<Figure size 432x288 with 1 Axes>"
            ]
          },
          "metadata": {
            "tags": []
          },
          "output_type": "display_data"
        }
      ],
      "source": [
        "from sklearn.metrics import roc_curve, auc\n",
        "fpr,tpr,ths = roc_curve(y_test,y_test_pred)\n",
        "auc_sc = auc(fpr, tpr)\n",
        "plt.plot(fpr, tpr, color='navy',label='ROC curve (area = %0.2f)' % auc_sc)\n",
        "plt.xlabel('False Positive Rate')\n",
        "plt.ylabel('True Positive Rate')\n",
        "plt.title('Receiver operating characteristic with test data')\n",
        "plt.legend()\n",
        "plt.show()"
      ]
    },
    {
      "cell_type": "code",
      "execution_count": null,
      "metadata": {
        "colab": {
          "base_uri": "https://localhost:8080/",
          "height": 730
        },
        "id": "HEZ7uvN6HgmK",
        "outputId": "4efdffe1-6e33-4f03-fa79-1c32833c4b80",
        "scrolled": false
      },
      "outputs": [
        {
          "data": {
            "image/png": "[encoded data removed]",
            "text/plain": [
              "<Figure size 720x864 with 1 Axes>"
            ]
          },
          "metadata": {
            "tags": []
          },
          "output_type": "display_data"
        }
      ],
      "source": [
        "features = df_final_train.columns\n",
        "importances = clf.feature_importances_\n",
        "indices = (np.argsort(importances))[-25:]\n",
        "plt.figure(figsize=(10,12))\n",
        "plt.title('Feature Importances')\n",
        "plt.barh(range(len(indices)), importances[indices], color='r', align='center')\n",
        "plt.yticks(range(len(indices)), [features[i] for i in indices])\n",
        "plt.xlabel('Relative Importance')\n",
        "plt.show()"
      ]
    },
    {
      "cell_type": "markdown",
      "metadata": {
        "id": "KK3lf2tYcqFs"
      },
      "source": [
        "## XGBoost"
      ]
    },
    {
      "cell_type": "code",
      "execution_count": null,
      "metadata": {
        "collapsed": true,
        "id": "ymv4ruuYYkSt"
      },
      "outputs": [],
      "source": [
        "from xgboost import XGBClassifier\n",
        "model = XGBClassifier()\n",
        "params = {\n",
        "        'subsample':[0.7, 0.8, 0.9],\n",
        "        'reg_lambda':[200, 300, 350],\n",
        "        'learning_rate':[0.05, 0.15, 0.20, 0.25, 0.30 ] ,\n",
        "        'max_depth':[ 3, 4, 5, 8, 11],\n",
        "        'min_child_weight':[ 1, 3, 5, 7 ],\n",
        "        'gamma': [ 0.1, 0.2 , 0.3, 0.4 ],\n",
        "        'colsample_bytree': [ 0.3, 0.5 , 0.7 ],\n",
        "        'n_estimators':[10, 30, 60, 70, 100, 400]\n",
        "}\n",
        "x_model = RandomizedSearchCV(model, params, scoring = 'f1', cv = 3)\n"
      ]
    },
    {
      "cell_type": "code",
      "execution_count": null,
      "metadata": {
        "colab": {
          "base_uri": "https://localhost:8080/",
          "height": 416
        },
        "id": "uY333yMkZxix",
        "outputId": "24106f6f-5aaf-4e87-fdd7-6b1d2f57efdb"
      },
      "outputs": [
        {
          "data": {
            "text/plain": [
              "RandomizedSearchCV(cv=3, error_score='raise-deprecating',\n",
              "                   estimator=XGBClassifier(base_score=0.5, booster='gbtree',\n",
              "                                           colsample_bylevel=1,\n",
              "                                           colsample_bynode=1,\n",
              "                                           colsample_bytree=1, gamma=0,\n",
              "                                           learning_rate=0.1, max_delta_step=0,\n",
              "                                           max_depth=3, min_child_weight=1,\n",
              "                                           missing=None, n_estimators=100,\n",
              "                                           n_jobs=1, nthread=None,\n",
              "                                           objective='binary:logistic',\n",
              "                                           random_state=0, reg_alpha=0...\n",
              "                   param_distributions={'colsample_bytree': [0.3, 0.5, 0.7],\n",
              "                                        'gamma': [0.1, 0.2, 0.3, 0.4],\n",
              "                                        'learning_rate': [0.05, 0.15, 0.2, 0.25,\n",
              "                                                          0.3],\n",
              "                                        'max_depth': [3, 4, 5, 8, 11],\n",
              "                                        'min_child_weight': [1, 3, 5, 7],\n",
              "                                        'n_estimators': [10, 30, 60, 70, 100,\n",
              "                                                         400],\n",
              "                                        'reg_lambda': [200, 300, 350],\n",
              "                                        'subsample': [0.7, 0.8, 0.9]},\n",
              "                   pre_dispatch='2*n_jobs', random_state=None, refit=True,\n",
              "                   return_train_score=False, scoring='f1', verbose=0)"
            ]
          },
          "execution_count": 33,
          "metadata": {
            "tags": []
          },
          "output_type": "execute_result"
        }
      ],
      "source": [
        "x_model.fit(df_final_train, y_train)"
      ]
    },
    {
      "cell_type": "code",
      "execution_count": null,
      "metadata": {
        "colab": {
          "base_uri": "https://localhost:8080/",
          "height": 52
        },
        "id": "CVkkekG2aHsx",
        "outputId": "a0f2e171-95ae-4a3f-fb86-3679233bac13"
      },
      "outputs": [
        {
          "name": "stdout",
          "output_type": "stream",
          "text": [
            "mean test scores [0.9705906  0.97276222 0.92730565 0.96722458 0.97093071 0.96170384\n",
            " 0.96625977 0.97446302 0.9430043  0.97351778]\n"
          ]
        }
      ],
      "source": [
        "print('mean test scores',x_model.cv_results_['mean_test_score'])\n"
      ]
    },
    {
      "cell_type": "code",
      "execution_count": null,
      "metadata": {
        "colab": {
          "base_uri": "https://localhost:8080/",
          "height": 139
        },
        "id": "_ok8Uu1saKoj",
        "outputId": "dcb728cb-dfac-44ff-918b-29b423c86e61"
      },
      "outputs": [
        {
          "name": "stdout",
          "output_type": "stream",
          "text": [
            "XGBClassifier(base_score=0.5, booster='gbtree', colsample_bylevel=1,\n",
            "              colsample_bynode=1, colsample_bytree=0.7, gamma=0.1,\n",
            "              learning_rate=0.2, max_delta_step=0, max_depth=8,\n",
            "              min_child_weight=7, missing=None, n_estimators=30, n_jobs=1,\n",
            "              nthread=None, objective='binary:logistic', random_state=0,\n",
            "              reg_alpha=0, reg_lambda=200, scale_pos_weight=1, seed=None,\n",
            "              silent=None, subsample=0.8, verbosity=1)\n"
          ]
        }
      ],
      "source": [
        "print(x_model.best_estimator_)"
      ]
    },
    {
      "cell_type": "code",
      "execution_count": null,
      "metadata": {
        "colab": {
          "base_uri": "https://localhost:8080/",
          "height": 52
        },
        "id": "KhnAxIDXcHrl",
        "outputId": "0ed3d443-4fc9-4ed1-849d-9d83354a8182"
      },
      "outputs": [
        {
          "name": "stdout",
          "output_type": "stream",
          "text": [
            "Train f1 score 0.9755056202511154\n",
            "Test f1 score 0.9328859060402686\n"
          ]
        }
      ],
      "source": [
        "y_train_pred = x_model.predict(df_final_train)\n",
        "y_test_pred = x_model.predict(df_final_test)\n",
        "print('Train f1 score',f1_score(y_train,y_train_pred))\n",
        "print('Test f1 score',f1_score(y_test,y_test_pred))"
      ]
    },
    {
      "cell_type": "code",
      "execution_count": null,
      "metadata": {
        "colab": {
          "base_uri": "https://localhost:8080/",
          "height": 628
        },
        "id": "W7XcXvlScecB",
        "outputId": "6de850c9-ad39-4e16-bb37-640c8114450a"
      },
      "outputs": [
        {
          "name": "stdout",
          "output_type": "stream",
          "text": [
            "Train confusion_matrix\n"
          ]
        },
        {
          "data": {
            "image/png": "[encoded data removed]",
            "text/plain": [
              "<Figure size 1440x288 with 6 Axes>"
            ]
          },
          "metadata": {
            "tags": []
          },
          "output_type": "display_data"
        },
        {
          "name": "stdout",
          "output_type": "stream",
          "text": [
            "Test confusion_matrix\n"
          ]
        },
        {
          "data": {
            "image/png": "[encoded data removed]",
            "text/plain": [
              "<Figure size 1440x288 with 6 Axes>"
            ]
          },
          "metadata": {
            "tags": []
          },
          "output_type": "display_data"
        }
      ],
      "source": [
        "print('Train confusion_matrix')\n",
        "plot_confusion_matrix(y_train,y_train_pred)\n",
        "print('Test confusion_matrix')\n",
        "plot_confusion_matrix(y_test,y_test_pred)"
      ]
    },
    {
      "cell_type": "code",
      "execution_count": null,
      "metadata": {
        "colab": {
          "base_uri": "https://localhost:8080/",
          "height": 121
        },
        "id": "i8n19Xlvz_bQ",
        "outputId": "2b062f56-8d4c-4ee6-83f5-eafe4a800878"
      },
      "outputs": [
        {
          "name": "stdout",
          "output_type": "stream",
          "text": [
            "+------+-------------------+---------------------------------------+----------+---------+\n",
            "| S.NO | Model Description |        Optimal Hyper Parameters       | Train F1 | Test F1 |\n",
            "+------+-------------------+---------------------------------------+----------+---------+\n",
            "|  1   |   Random Forest   | max depth = 14 and n-estimators = 121 |   0.96   |  0.926  |\n",
            "|  2   |      XGBoost      |  max depth = 5 and n-estimators = 400 |   0.98   |  0.932  |\n",
            "+------+-------------------+---------------------------------------+----------+---------+\n"
          ]
        }
      ],
      "source": [
        "x = PrettyTable()\n",
        "x.add_column(\"S.NO\", [1,2])\n",
        "x.add_column(\"Model Description\", [\"Random Forest\", \"XGBoost\"])\n",
        "x.add_column(\"Optimal Hyper Parameters\", [\"max depth = 14 and n-estimators = 121\", \"max depth = 5 and n-estimators = 400\"])\n",
        "x.add_column(\"Train F1\", [0.96, 0.98])\n",
        "x.add_column(\"Test F1\", [0.926, 0.932])\n",
        "print(x)"
      ]
    },
    {
      "cell_type": "markdown",
      "metadata": {
        "id": "tn79XaM13bLi"
      },
      "source": [
        "1. Add another feature called  Preferential Attachment  with followers and followees data of vertex. you can check about Preferential Attachment in below link\n",
        "http://be.amazd.com/link-prediction/ <br>\n",
        "2. Add  feature called svd_dot. you can calculate svd_dot as Dot product between sourse node svd and destination node svd features.  you can read about this in below pdf \n",
        "https://storage.googleapis.com/kaggle-forum-message-attachments/2594/supervised_link_prediction.pdf<br>\n",
        "3. Tune hyperparameters for XG boost with all these features and check the error metric."
      ]
    }
  ],
  "metadata": {
    "colab": {
      "collapsed_sections": [],
      "name": "ContributionFBModels.ipynb",
      "provenance": [],
      "include_colab_link": true
    },
    "kernelspec": {
      "display_name": "Python 3",
      "language": "python",
      "name": "python3"
    },
    "language_info": {
      "codemirror_mode": {
        "name": "ipython",
        "version": 3
      },
      "file_extension": ".py",
      "mimetype": "text/x-python",
      "name": "python",
      "nbconvert_exporter": "python",
      "pygments_lexer": "ipython3",
      "version": "3.6.3"
    }
  },
  "nbformat": 4,
  "nbformat_minor": 0
}